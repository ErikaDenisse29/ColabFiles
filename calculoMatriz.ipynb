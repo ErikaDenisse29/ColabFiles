{
  "nbformat": 4,
  "nbformat_minor": 0,
  "metadata": {
    "colab": {
      "provenance": [],
      "authorship_tag": "ABX9TyPUk7KnUWIajSoA16gEGUPk",
      "include_colab_link": true
    },
    "kernelspec": {
      "name": "python3",
      "display_name": "Python 3"
    },
    "language_info": {
      "name": "python"
    }
  },
  "cells": [
    {
      "cell_type": "markdown",
      "metadata": {
        "id": "view-in-github",
        "colab_type": "text"
      },
      "source": [
        "<a href=\"https://colab.research.google.com/github/ErikaDenisse29/ColabFiles/blob/main/calculoMatriz.ipynb\" target=\"_parent\"><img src=\"https://colab.research.google.com/assets/colab-badge.svg\" alt=\"Open In Colab\"/></a>"
      ]
    },
    {
      "cell_type": "code",
      "execution_count": 2,
      "metadata": {
        "colab": {
          "base_uri": "https://localhost:8080/"
        },
        "id": "ZgLhfo0583nq",
        "outputId": "58ef7bcf-320a-468d-e893-a8a518659fe1"
      },
      "outputs": [
        {
          "output_type": "stream",
          "name": "stdout",
          "text": [
            "Determinante de B: 423.9999999999996\n",
            "Matriz de cofactores:\n",
            "[[ 56.  16. -24.]\n",
            " [ 16.  50. -22.]\n",
            " [-24. -22.  86.]]\n",
            "Matriz adjunta de B:\n",
            "[[ 56.  16. -24.]\n",
            " [ 16.  50. -22.]\n",
            " [-24. -22.  86.]]\n",
            "La matriz inversa de B es:\n",
            "[[ 0.13207547  0.03773585 -0.05660377]\n",
            " [ 0.03773585  0.11792453 -0.05188679]\n",
            " [-0.05660377 -0.05188679  0.20283019]]\n"
          ]
        }
      ],
      "source": [
        "import numpy as np\n",
        "\n",
        "# Definir la matriz B\n",
        "B = np.array([[9, -2, 2],\n",
        "              [-2, 10, 2],\n",
        "              [2, 2, 6]])\n",
        "\n",
        "# Paso 1: Calcular el determinante de B\n",
        "det_B = np.linalg.det(B)\n",
        "print(f\"Determinante de B: {det_B}\")\n",
        "\n",
        "# Paso 2: Calcular la matriz de cofactores\n",
        "def cofactor_matrix(matrix):\n",
        "    cofactors = np.zeros(matrix.shape)\n",
        "    for i in range(matrix.shape[0]):\n",
        "        for j in range(matrix.shape[1]):\n",
        "            # Obtener la submatriz al eliminar la fila i y la columna j\n",
        "            submatrix = np.delete(np.delete(matrix, i, axis=0), j, axis=1)\n",
        "            # Calcular el determinante de la submatriz\n",
        "            cofactors[i, j] = ((-1) ** (i + j)) * np.linalg.det(submatrix)\n",
        "    return cofactors\n",
        "\n",
        "# Calcular la matriz de cofactores\n",
        "C = cofactor_matrix(B)\n",
        "print(\"Matriz de cofactores:\")\n",
        "print(C)\n",
        "\n",
        "# Paso 3: Calcular la matriz adjunta (transpuesta de la matriz de cofactores)\n",
        "adj_B = C.T\n",
        "print(\"Matriz adjunta de B:\")\n",
        "print(adj_B)\n",
        "\n",
        "# Paso 4: Calcular la matriz inversa de B\n",
        "if det_B != 0:\n",
        "    B_inv = (1 / det_B) * adj_B\n",
        "    print(\"La matriz inversa de B es:\")\n",
        "    print(B_inv)\n",
        "else:\n",
        "    print(\"La matriz B no es invertible (determinante es cero).\")"
      ]
    }
  ]
}