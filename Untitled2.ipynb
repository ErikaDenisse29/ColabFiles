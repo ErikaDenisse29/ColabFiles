{
  "nbformat": 4,
  "nbformat_minor": 0,
  "metadata": {
    "colab": {
      "provenance": [],
      "mount_file_id": "13x-jVqzcHptCIQ-JZ59HiyTq9Pa6QkTH",
      "authorship_tag": "ABX9TyM3NPm3pmdx740Ur76KP3ky",
      "include_colab_link": true
    },
    "kernelspec": {
      "name": "python3",
      "display_name": "Python 3"
    },
    "language_info": {
      "name": "python"
    }
  },
  "cells": [
    {
      "cell_type": "markdown",
      "metadata": {
        "id": "view-in-github",
        "colab_type": "text"
      },
      "source": [
        "<a href=\"https://colab.research.google.com/github/ErikaDenisse29/ColabFiles/blob/main/Untitled2.ipynb\" target=\"_parent\"><img src=\"https://colab.research.google.com/assets/colab-badge.svg\" alt=\"Open In Colab\"/></a>"
      ]
    },
    {
      "cell_type": "markdown",
      "source": [
        "# **EJEMPLO DE GUARDAR EN HITHUB**"
      ],
      "metadata": {
        "id": "3-fXIzu9vxZb"
      }
    },
    {
      "cell_type": "code",
      "source": [
        "print (\n",
        "    'Hola'\n",
        ")"
      ],
      "metadata": {
        "colab": {
          "base_uri": "https://localhost:8080/"
        },
        "id": "BL7ISYT-v5bv",
        "outputId": "7ac003d8-f8c4-46d6-d1e2-3c66b3018edd"
      },
      "execution_count": null,
      "outputs": [
        {
          "output_type": "stream",
          "name": "stdout",
          "text": [
            "Hola\n"
          ]
        }
      ]
    },
    {
      "cell_type": "code",
      "source": [
        "print (\"erika montanez\")"
      ],
      "metadata": {
        "colab": {
          "base_uri": "https://localhost:8080/"
        },
        "id": "EZS4VDhkyZk6",
        "outputId": "968f36bc-bcd6-4330-ff71-ade6b8958415"
      },
      "execution_count": 1,
      "outputs": [
        {
          "output_type": "stream",
          "name": "stdout",
          "text": [
            "erika montanez\n"
          ]
        }
      ]
    }
  ]
}