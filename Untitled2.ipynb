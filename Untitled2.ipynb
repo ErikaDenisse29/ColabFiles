{
  "nbformat": 4,
  "nbformat_minor": 0,
  "metadata": {
    "colab": {
      "provenance": [],
      "mount_file_id": "13x-jVqzcHptCIQ-JZ59HiyTq9Pa6QkTH",
      "authorship_tag": "ABX9TyNuwcdM+V0Ej+UznR+m8hhW",
      "include_colab_link": true
    },
    "kernelspec": {
      "name": "python3",
      "display_name": "Python 3"
    },
    "language_info": {
      "name": "python"
    }
  },
  "cells": [
    {
      "cell_type": "markdown",
      "metadata": {
        "id": "view-in-github",
        "colab_type": "text"
      },
      "source": [
        "<a href=\"https://colab.research.google.com/github/ErikaDenisse29/ColabFiles/blob/main/Untitled2.ipynb\" target=\"_parent\"><img src=\"https://colab.research.google.com/assets/colab-badge.svg\" alt=\"Open In Colab\"/></a>"
      ]
    },
    {
      "cell_type": "markdown",
      "source": [
        "# **EJEMPLO DE GUARDAR EN HITHUB**"
      ],
      "metadata": {
        "id": "3-fXIzu9vxZb"
      }
    },
    {
      "cell_type": "code",
      "source": [
        "print (\n",
        "    'Hola'\n",
        ")"
      ],
      "metadata": {
        "colab": {
          "base_uri": "https://localhost:8080/"
        },
        "id": "BL7ISYT-v5bv",
        "outputId": "7ac003d8-f8c4-46d6-d1e2-3c66b3018edd"
      },
      "execution_count": 1,
      "outputs": [
        {
          "output_type": "stream",
          "name": "stdout",
          "text": [
            "Hola\n"
          ]
        }
      ]
    }
  ]
}