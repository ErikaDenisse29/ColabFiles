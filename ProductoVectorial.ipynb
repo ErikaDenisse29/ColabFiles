{
  "nbformat": 4,
  "nbformat_minor": 0,
  "metadata": {
    "colab": {
      "provenance": [],
      "mount_file_id": "1yo7JZwk-IcAlR2Z-6IcjhFUCMgya8A6Y",
      "authorship_tag": "ABX9TyMrvacNyjvkLvOlDBv0lQoF",
      "include_colab_link": true
    },
    "kernelspec": {
      "name": "python3",
      "display_name": "Python 3"
    },
    "language_info": {
      "name": "python"
    }
  },
  "cells": [
    {
      "cell_type": "markdown",
      "metadata": {
        "id": "view-in-github",
        "colab_type": "text"
      },
      "source": [
        "<a href=\"https://colab.research.google.com/github/ErikaDenisse29/ColabFiles/blob/main/ProductoVectorial.ipynb\" target=\"_parent\"><img src=\"https://colab.research.google.com/assets/colab-badge.svg\" alt=\"Open In Colab\"/></a>"
      ]
    },
    {
      "cell_type": "markdown",
      "source": [
        "# **producto vectorial de dos vectores en 3D**\n",
        "Okay, the user is asking for a Python script using NumPy to calculate the cross product of two vectors provided by the user. Let me start by recalling how cross products work. The cross product of two 3D vectors results in a vector perpendicular to both. NumPy has a function for this: numpy.cross(a, b).\n",
        "\n",
        "First, I need to get the two vectors from the user. They might input them in different ways, like through the command line. So I should prompt the user to enter the vectors, probably as comma-separated values. Then, I'll need to convert those inputs into lists of floats.\n",
        "\n",
        "Wait, I should handle any potential errors. What if the user enters non-numeric values or vectors that aren't 3D? The cross product in NumPy requires both vectors to be of length 3. So I should include checks for that. If the input is invalid, the program should notify the user and maybe ask again.\n",
        "\n",
        "Let me outline the steps:\n",
        "\n",
        "1. Prompt the user for the first vector.\n",
        "\n",
        "2. Validate the input: check if there are exactly three elements and all are numbers.\n",
        "\n",
        "3. Repeat the same for the second vector.\n",
        "\n",
        "4. Convert the valid inputs into NumPy arrays.\n",
        "\n",
        "5. Compute the cross product using numpy.cross().\n",
        "\n",
        "6. Print the result.\n",
        "\n",
        "Now, handling the input. For each vector, I can use a loop that keeps asking until a valid input is provided. Using try-except blocks can help catch conversion errors. For example, splitting the input string by commas, stripping whitespace, converting each part to a float. If any part fails, it's invalid.\n",
        "\n",
        "Wait, the user might enter something like \"1, 2, 3\" or \"1 2 3\". But the problem states the user gives the vectors, so probably commas. The prompt should specify to separate with commas.\n",
        "\n",
        "Putting it all together. The code structure would be:\n",
        "\n",
        "- Import numpy.\n",
        "\n",
        "- Define a function to read a vector with error handling.\n",
        "\n",
        "- Call the function twice for both vectors.\n",
        "\n",
        "- Compute and print the cross product.\n",
        "\n",
        "Testing edge cases: what if the user enters more or fewer than three elements? The code should detect that and prompt again. Also, non-numeric entries should be caught in the except block."
      ],
      "metadata": {
        "id": "Px7YjFpCI8Zc"
      }
    },
    {
      "cell_type": "code",
      "execution_count": 1,
      "metadata": {
        "colab": {
          "base_uri": "https://localhost:8080/"
        },
        "id": "XG_nl25lIxAD",
        "outputId": "68759765-88e5-4743-e0c0-78549a3e29a5"
      },
      "outputs": [
        {
          "output_type": "stream",
          "name": "stdout",
          "text": [
            "Ingresa los vectores en formato x, y, z (ejemplo: 1, 2, 3)\n",
            "Primer vector: 2,3,4\n",
            "Segundo vector: 5,6,7\n",
            "\n",
            "El producto vectorial es:\n",
            "[-3.  6. -3.]\n"
          ]
        }
      ],
      "source": [
        "import numpy as np\n",
        "\n",
        "def obtener_vector(mensaje):\n",
        "    while True:\n",
        "        entrada = input(mensaje)\n",
        "        try:\n",
        "            componentes = [float(x.strip()) for x in entrada.split(',')]\n",
        "            if len(componentes) != 3:\n",
        "                print(\"Error: Debes ingresar exactamente 3 valores separados por comas\")\n",
        "                continue\n",
        "            return np.array(componentes)\n",
        "        except ValueError:\n",
        "            print(\"Error: Asegúrate de ingresar números válidos separados por comas (ejemplo: 1, 2, 3)\")\n",
        "\n",
        "# Solicitar los vectores al usuario\n",
        "print(\"Ingresa los vectores en formato x, y, z (ejemplo: 1, 2, 3)\")\n",
        "vector1 = obtener_vector(\"Primer vector: \")\n",
        "vector2 = obtener_vector(\"Segundo vector: \")\n",
        "\n",
        "# Calcular el producto vectorial\n",
        "producto_vectorial = np.cross(vector1, vector2)\n",
        "\n",
        "# Mostrar el resultado\n",
        "print(\"\\nEl producto vectorial es:\")\n",
        "print(producto_vectorial)"
      ]
    }
  ]
}