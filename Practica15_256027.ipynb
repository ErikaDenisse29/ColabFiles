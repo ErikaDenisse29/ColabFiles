{
  "nbformat": 4,
  "nbformat_minor": 0,
  "metadata": {
    "colab": {
      "provenance": [],
      "mount_file_id": "1mfJHqyKMWZt1LDvKe2J6-_UdKuZwIHFz",
      "authorship_tag": "ABX9TyPLedByBemFVgJBqgx77c5j",
      "include_colab_link": true
    },
    "kernelspec": {
      "name": "python3",
      "display_name": "Python 3"
    },
    "language_info": {
      "name": "python"
    }
  },
  "cells": [
    {
      "cell_type": "markdown",
      "metadata": {
        "id": "view-in-github",
        "colab_type": "text"
      },
      "source": [
        "<a href=\"https://colab.research.google.com/github/ErikaDenisse29/ColabFiles/blob/main/Practica15_256027.ipynb\" target=\"_parent\"><img src=\"https://colab.research.google.com/assets/colab-badge.svg\" alt=\"Open In Colab\"/></a>"
      ]
    },
    {
      "cell_type": "markdown",
      "source": [
        "\n",
        "# **Limpieza y Transformación de Datos-Prácticas 11,12,13,14,15**\n",
        "\n",
        "**Practica 11:** **Carga de Datos**\n",
        "\n",
        "Al final del archivo contiene una línea que dice \"Esta es una línea que no deberías cargar\". Esta línea es irrelevante por lo tanto al cargar el CSV a un dataframe se debería de ignorar.\n",
        "\n",
        "\n",
        "*   Carga el archivo a un dataframe usando el código necesario para omitir la última fila.\n",
        "*   Usa df.tail(3) para demostrar que no has cargado la última línea.\n",
        "*   Imprime la cantidad de filas y columnas del dataframe.\n",
        "\n",
        "\n",
        "\n",
        "\n"
      ],
      "metadata": {
        "id": "Jp8ZLv_J6CSP"
      }
    },
    {
      "cell_type": "code",
      "source": [
        "import pandas as pd\n",
        "import numpy as np\n",
        "\n",
        "df = pd.read_csv(\"drive/MyDrive/miaad-nyc-r-s.csv\", low_memory=False) #dtype=str\n",
        "#print(df.head())\n",
        "print(df.tail(3))\n",
        "\n",
        "print(f\"El DataFrame tiene {df.shape[0]} filas y {df.shape[1]} columnas.\")\n"
      ],
      "metadata": {
        "colab": {
          "base_uri": "https://localhost:8080/"
        },
        "id": "_NGkasAQ6GcK",
        "outputId": "d02e0c87-022d-4cd7-f296-47b6d90a503c"
      },
      "execution_count": 33,
      "outputs": [
        {
          "output_type": "stream",
          "name": "stdout",
          "text": [
            "                                     Unnamed: 0  BOROUGH NEIGHBORHOOD  \\\n",
            "84546                                      8412      5.0      WOODROW   \n",
            "84547                                      8413      5.0      WOODROW   \n",
            "84548  Esta es una línea que no deberías cargar      NaN          NaN   \n",
            "\n",
            "                           BUILDING CLASS CATEGORY TAX CLASS AT PRESENT  \\\n",
            "84546  22 STORE BUILDINGS                                             4   \n",
            "84547  35 INDOOR PUBLIC AND CULTURAL FACILITIES                       4   \n",
            "84548                                          NaN                  NaN   \n",
            "\n",
            "        BLOCK    LOT EASE-MENT BUILDING CLASS AT PRESENT  \\\n",
            "84546  7100.0   28.0                                  K6   \n",
            "84547  7105.0  679.0                                  P9   \n",
            "84548     NaN    NaN       NaN                       NaN   \n",
            "\n",
            "                     ADDRESS  ... RESIDENTIAL UNITS  COMMERCIAL UNITS  \\\n",
            "84546  2730 ARTHUR KILL ROAD  ...               0.0               7.0   \n",
            "84547      155 CLAY PIT ROAD  ...               0.0               1.0   \n",
            "84548                    NaN  ...               NaN               NaN   \n",
            "\n",
            "       TOTAL UNITS  LAND SQUARE FEET  GROSS SQUARE FEET YEAR BUILT  \\\n",
            "84546          7.0            208033              64117     2001.0   \n",
            "84547          1.0             10796               2400     2006.0   \n",
            "84548          NaN               NaN                NaN        NaN   \n",
            "\n",
            "      TAX CLASS AT TIME OF SALE  BUILDING CLASS AT TIME OF SALE  SALE PRICE  \\\n",
            "84546                       4.0                              K6    11693337   \n",
            "84547                       4.0                              P9       69300   \n",
            "84548                       NaN                             NaN         NaN   \n",
            "\n",
            "                 SALE DATE  \n",
            "84546  2016-12-21 00:00:00  \n",
            "84547  2016-10-27 00:00:00  \n",
            "84548                  NaN  \n",
            "\n",
            "[3 rows x 22 columns]\n",
            "El DataFrame tiene 84549 filas y 22 columnas.\n"
          ]
        }
      ]
    },
    {
      "cell_type": "markdown",
      "source": [
        "**Práctica 12:** **Agregar una columna**\n",
        "\n",
        "\n",
        "\n",
        "*   Imprime los nombres de la columnas del archivo.\n",
        "*   Asegúrate que el nombre de la primera columna debería ser INDEX MIIAD. Si esto no es así, entonces agrega dicho nombre a la columna y vuelve a imprimir los nombres para mostrar el cambio realizado.\n",
        "\n",
        "\n",
        "\n"
      ],
      "metadata": {
        "id": "nmVXkBWG-GBe"
      }
    },
    {
      "cell_type": "code",
      "source": [
        "print(df.columns)\n",
        "\n",
        "if df.columns[0]!='INDEX MIIAD':\n",
        "  df.rename(columns={df.columns[0]:'INDEX MIIAD'},inplace=True)\n",
        "\n",
        "print(df.columns)\n"
      ],
      "metadata": {
        "colab": {
          "base_uri": "https://localhost:8080/"
        },
        "id": "p5Y3_MNi-L5L",
        "outputId": "97cef528-3669-4cad-f7b3-14927c79c221"
      },
      "execution_count": 34,
      "outputs": [
        {
          "output_type": "stream",
          "name": "stdout",
          "text": [
            "Index(['Unnamed: 0', 'BOROUGH', 'NEIGHBORHOOD', 'BUILDING CLASS CATEGORY',\n",
            "       'TAX CLASS AT PRESENT', 'BLOCK', 'LOT', 'EASE-MENT',\n",
            "       'BUILDING CLASS AT PRESENT', 'ADDRESS', 'APARTMENT NUMBER', 'ZIP CODE',\n",
            "       'RESIDENTIAL UNITS', 'COMMERCIAL UNITS', 'TOTAL UNITS',\n",
            "       'LAND SQUARE FEET', 'GROSS SQUARE FEET', 'YEAR BUILT',\n",
            "       'TAX CLASS AT TIME OF SALE', 'BUILDING CLASS AT TIME OF SALE',\n",
            "       'SALE PRICE', 'SALE DATE'],\n",
            "      dtype='object')\n",
            "Index(['INDEX MIIAD', 'BOROUGH', 'NEIGHBORHOOD', 'BUILDING CLASS CATEGORY',\n",
            "       'TAX CLASS AT PRESENT', 'BLOCK', 'LOT', 'EASE-MENT',\n",
            "       'BUILDING CLASS AT PRESENT', 'ADDRESS', 'APARTMENT NUMBER', 'ZIP CODE',\n",
            "       'RESIDENTIAL UNITS', 'COMMERCIAL UNITS', 'TOTAL UNITS',\n",
            "       'LAND SQUARE FEET', 'GROSS SQUARE FEET', 'YEAR BUILT',\n",
            "       'TAX CLASS AT TIME OF SALE', 'BUILDING CLASS AT TIME OF SALE',\n",
            "       'SALE PRICE', 'SALE DATE'],\n",
            "      dtype='object')\n"
          ]
        }
      ]
    },
    {
      "cell_type": "markdown",
      "source": [
        "**Práctica 13:** **Normalización de los nombres de la columna.**\n",
        "\n",
        "\n",
        "\n",
        "*   Normaliza los nombres de las columnas, los cuales deberán estar en minúsculas. Asimismo, reemplaza los espacios con guion bajo\n",
        "*   Imprime los nombres de las columnas para demostrar que has realizado la normalización.\n",
        "\n"
      ],
      "metadata": {
        "id": "DQQQlwkD_qrA"
      }
    },
    {
      "cell_type": "code",
      "source": [
        "df.columns = df.columns.str.lower().str.replace(' ','_')\n",
        "print(df.columns)"
      ],
      "metadata": {
        "colab": {
          "base_uri": "https://localhost:8080/"
        },
        "id": "hzAh1vLD_qVQ",
        "outputId": "3abc388d-e4a6-4cf7-a263-5e71b421b90c"
      },
      "execution_count": 35,
      "outputs": [
        {
          "output_type": "stream",
          "name": "stdout",
          "text": [
            "Index(['index_miiad', 'borough', 'neighborhood', 'building_class_category',\n",
            "       'tax_class_at_present', 'block', 'lot', 'ease-ment',\n",
            "       'building_class_at_present', 'address', 'apartment_number', 'zip_code',\n",
            "       'residential_units', 'commercial_units', 'total_units',\n",
            "       'land_square_feet', 'gross_square_feet', 'year_built',\n",
            "       'tax_class_at_time_of_sale', 'building_class_at_time_of_sale',\n",
            "       'sale_price', 'sale_date'],\n",
            "      dtype='object')\n"
          ]
        }
      ]
    },
    {
      "cell_type": "markdown",
      "source": [
        "**Práctica 14: Errores en los Tipos de Datos**\n",
        "\n",
        "\n",
        "*   Imprime los tipos de datos de cada columna\n",
        "*   Asegúrate que las columnas de SALE PRICE(sale_price), LAND SQUARE FEET (land_square_feet), GROSS SQUARE FEET (gross_square_feet) sean de tipo flotante. Escribe qué tipo de dato tienen asignado. Si no son correctos, realiza el cambio.\n",
        "*   Imprime de nuevo los tipos de datos para demostrar que has arreglado el problema.\n",
        "\n",
        "\n",
        "\n",
        "\n"
      ],
      "metadata": {
        "id": "KZWYboVcBKO6"
      }
    },
    {
      "cell_type": "code",
      "source": [
        "print(df.dtypes)\n",
        "\n",
        "df['sale_price'] = df['sale_price'].replace(' -  ', np.nan)\n",
        "df['land_square_feet'] = df['land_square_feet'].replace(' -  ', np.nan)\n",
        "df['gross_square_feet'] = df['gross_square_feet'].replace(' -  ', np.nan)\n",
        "\n",
        "df['sale_price'] = df['sale_price'].astype(float)\n",
        "df['land_square_feet'] = df['land_square_feet'].astype(float)\n",
        "df['gross_square_feet'] = df['gross_square_feet'].astype(float)\n",
        "\n",
        "print(df.dtypes)"
      ],
      "metadata": {
        "colab": {
          "base_uri": "https://localhost:8080/"
        },
        "id": "wrQLSnkkB4w3",
        "outputId": "8975f891-9e31-40c4-eed0-d223b5168933"
      },
      "execution_count": 37,
      "outputs": [
        {
          "output_type": "stream",
          "name": "stdout",
          "text": [
            "index_miiad                        object\n",
            "borough                           float64\n",
            "neighborhood                       object\n",
            "building_class_category            object\n",
            "tax_class_at_present               object\n",
            "block                             float64\n",
            "lot                               float64\n",
            "ease-ment                          object\n",
            "building_class_at_present          object\n",
            "address                            object\n",
            "apartment_number                   object\n",
            "zip_code                          float64\n",
            "residential_units                 float64\n",
            "commercial_units                  float64\n",
            "total_units                       float64\n",
            "land_square_feet                   object\n",
            "gross_square_feet                  object\n",
            "year_built                        float64\n",
            "tax_class_at_time_of_sale         float64\n",
            "building_class_at_time_of_sale     object\n",
            "sale_price                         object\n",
            "sale_date                          object\n",
            "dtype: object\n",
            "index_miiad                        object\n",
            "borough                           float64\n",
            "neighborhood                       object\n",
            "building_class_category            object\n",
            "tax_class_at_present               object\n",
            "block                             float64\n",
            "lot                               float64\n",
            "ease-ment                          object\n",
            "building_class_at_present          object\n",
            "address                            object\n",
            "apartment_number                   object\n",
            "zip_code                          float64\n",
            "residential_units                 float64\n",
            "commercial_units                  float64\n",
            "total_units                       float64\n",
            "land_square_feet                  float64\n",
            "gross_square_feet                 float64\n",
            "year_built                        float64\n",
            "tax_class_at_time_of_sale         float64\n",
            "building_class_at_time_of_sale     object\n",
            "sale_price                        float64\n",
            "sale_date                          object\n",
            "dtype: object\n"
          ]
        }
      ]
    },
    {
      "cell_type": "markdown",
      "source": [
        "**Práctica 15: Genera el diccionario de datos del dataframe preprocesado**\n",
        "\n"
      ],
      "metadata": {
        "id": "GFC1MIo9CxY6"
      }
    },
    {
      "cell_type": "code",
      "source": [
        "data_dictionary= df.dtypes.to_frame('Dtype').reset_index()\n",
        "data_dictionary.columns=['Variable','Tipo de Dato']\n",
        "\n",
        "print(data_dictionary)"
      ],
      "metadata": {
        "colab": {
          "base_uri": "https://localhost:8080/"
        },
        "id": "j3vLw8SlC-K3",
        "outputId": "0646227b-c5c4-4612-da7b-7b71327695cd"
      },
      "execution_count": 38,
      "outputs": [
        {
          "output_type": "stream",
          "name": "stdout",
          "text": [
            "                          Variable Tipo de Dato\n",
            "0                      index_miiad       object\n",
            "1                          borough      float64\n",
            "2                     neighborhood       object\n",
            "3          building_class_category       object\n",
            "4             tax_class_at_present       object\n",
            "5                            block      float64\n",
            "6                              lot      float64\n",
            "7                        ease-ment       object\n",
            "8        building_class_at_present       object\n",
            "9                          address       object\n",
            "10                apartment_number       object\n",
            "11                        zip_code      float64\n",
            "12               residential_units      float64\n",
            "13                commercial_units      float64\n",
            "14                     total_units      float64\n",
            "15                land_square_feet      float64\n",
            "16               gross_square_feet      float64\n",
            "17                      year_built      float64\n",
            "18       tax_class_at_time_of_sale      float64\n",
            "19  building_class_at_time_of_sale       object\n",
            "20                      sale_price      float64\n",
            "21                       sale_date       object\n"
          ]
        }
      ]
    }
  ]
}