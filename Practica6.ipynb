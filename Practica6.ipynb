{
  "nbformat": 4,
  "nbformat_minor": 0,
  "metadata": {
    "colab": {
      "provenance": [],
      "mount_file_id": "1hxx4xvvE7n_t5A1M3-z57JwI2s-SZ8Gh",
      "authorship_tag": "ABX9TyN312bSU1zSZZ8lo0HdBrh7",
      "include_colab_link": true
    },
    "kernelspec": {
      "name": "python3",
      "display_name": "Python 3"
    },
    "language_info": {
      "name": "python"
    }
  },
  "cells": [
    {
      "cell_type": "markdown",
      "metadata": {
        "id": "view-in-github",
        "colab_type": "text"
      },
      "source": [
        "<a href=\"https://colab.research.google.com/github/ErikaDenisse29/ColabFiles/blob/main/Practica6.ipynb\" target=\"_parent\"><img src=\"https://colab.research.google.com/assets/colab-badge.svg\" alt=\"Open In Colab\"/></a>"
      ]
    },
    {
      "cell_type": "markdown",
      "source": [
        "# **Práctica #6 - Unidad 1. Manejo de librería Pandas**\n",
        "\n",
        "Ejercicio 1: Análisis de la distribución de supervivencia por combinación de sexo y clase del pasajero.\n",
        "\n",
        "\n",
        "\n",
        "*   Calcula la proporción de supervivencia para cada\n",
        "combinación de 'Sex' y 'Pclass'.\n",
        "*   Identifica qué combinación tuvo la tasa de supervivencia más alta.\n",
        "*   Identifica qué combinación tuvo la tasa de supervivencia más baja.\n",
        "\n",
        "\n",
        "\n",
        "\n",
        "\n",
        "\n",
        "\n"
      ],
      "metadata": {
        "id": "2QLFcXtBaxu9"
      }
    },
    {
      "cell_type": "code",
      "source": [
        "#importar\n",
        "import pandas as pd\n",
        "\n",
        "# Leer el archivo CSV\n",
        "# La separación por default es coma (,)\n",
        "df = pd.read_csv('/content/Titanic-Dataset.csv')\n",
        "\n",
        "# Mostrar\n",
        "#print(df.head())\n",
        "\n",
        "# Calcular la proporción de supervivencia y mostrar\n",
        "prop = df.groupby(['Sex', 'Pclass'])['Survived'].mean().reset_index()\n",
        "print(prop)\n",
        "print()\n",
        "\n",
        "#supervivencia mas alta\n",
        "max_sur = prop.loc[prop['Survived'].idxmax()]\n",
        "print(max_sur)\n",
        "print()\n",
        "\n",
        "#supervivencia mas baja\n",
        "min_sur = prop.loc[prop['Survived'].idxmin()]\n",
        "print(min_sur)\n",
        "print()\n"
      ],
      "metadata": {
        "colab": {
          "base_uri": "https://localhost:8080/"
        },
        "id": "YFn6DRy3lTMT",
        "outputId": "5aef9069-c537-46bc-91e9-c36f50bb3bfd"
      },
      "execution_count": 75,
      "outputs": [
        {
          "output_type": "stream",
          "name": "stdout",
          "text": [
            "      Sex  Pclass  Survived\n",
            "0  female       1  0.968085\n",
            "1  female       2  0.921053\n",
            "2  female       3  0.500000\n",
            "3    male       1  0.368852\n",
            "4    male       2  0.157407\n",
            "5    male       3  0.135447\n",
            "\n",
            "Sex           female\n",
            "Pclass             1\n",
            "Survived    0.968085\n",
            "Name: 0, dtype: object\n",
            "\n",
            "Sex             male\n",
            "Pclass             3\n",
            "Survived    0.135447\n",
            "Name: 5, dtype: object\n",
            "\n"
          ]
        }
      ]
    },
    {
      "cell_type": "markdown",
      "source": [
        "Ejercicio 2: Identificación de familias grandes a bordo.\n",
        "\n",
        "\n",
        "\n",
        "*   Crea una nueva columna 'FamilySize' sumando las columnas 'SibSp' y 'Parch'.\n",
        "*   Considera como \"familia grande\" a aquellas donde 'FamilySize' es mayor a 3.\n",
        "*   Calcula el número de pasajeros en familias grandes.\n",
        "*   Calcula la proporción de supervivencia entre los pasajeros que pertenecen a familias grandes.\n"
      ],
      "metadata": {
        "id": "nu6xpH0Fn0VB"
      }
    },
    {
      "cell_type": "code",
      "source": [
        "# Crear nueva columna 'FamilySize'\n",
        "df['FamilySize'] = df['SibSp'] + df['Parch']\n",
        "print(df[['SibSp','Parch','FamilySize']].head())\n",
        "print()\n",
        "\n",
        "# mayores a 3\n",
        "df['BigFamily'] = df['FamilySize'] > 3\n",
        "num_bigFamilys = df['BigFamily'].sum()\n",
        "print('Número de familias grandes:', num_bigFamilys)\n",
        "print()\n",
        "\n",
        "# Calcular la proporción de supervivencia en familias grandes\n",
        "prop_fam = df.groupby(['BigFamily'])['Survived'].mean().reset_index()\n",
        "print(prop_fam)\n",
        "print()\n",
        "\n"
      ],
      "metadata": {
        "colab": {
          "base_uri": "https://localhost:8080/"
        },
        "id": "uw26GqJhoGul",
        "outputId": "38c714d3-4841-4557-dd37-c0fec4a81239"
      },
      "execution_count": 76,
      "outputs": [
        {
          "output_type": "stream",
          "name": "stdout",
          "text": [
            "   SibSp  Parch  FamilySize\n",
            "0      1      0           1\n",
            "1      1      0           1\n",
            "2      0      0           0\n",
            "3      1      0           1\n",
            "4      0      0           0\n",
            "\n",
            "Número de familias grandes: 62\n",
            "\n",
            "   BigFamily  Survived\n",
            "0      False  0.400483\n",
            "1       True  0.161290\n",
            "\n"
          ]
        }
      ]
    },
    {
      "cell_type": "markdown",
      "source": [
        "# **Ejercicio 3: Segmentación por grupos de edad.**\n",
        "\n",
        "Clasifica a los pasajeros en las siguientes categorías de edad(tip puede resultar mas sencillo realizarlo con una función):  menor de edad (< 18) y mayor de edad (>=18)"
      ],
      "metadata": {
        "id": "xTlITC_svj-5"
      }
    },
    {
      "cell_type": "code",
      "source": [
        "def age_categ(age):\n",
        "  if age < 18:\n",
        "    return 'Menores de edad'\n",
        "  else:\n",
        "    return 'Mayores de edad'\n",
        "\n",
        "df['AgeCateg'] = df['Age'].apply(age_categ)\n",
        "print(df[['Age','AgeCateg']].head())\n",
        "print()"
      ],
      "metadata": {
        "colab": {
          "base_uri": "https://localhost:8080/"
        },
        "id": "wNHT9t7ovswb",
        "outputId": "b003bae7-6e4d-4f41-c390-a81c62e4cb02"
      },
      "execution_count": 78,
      "outputs": [
        {
          "output_type": "stream",
          "name": "stdout",
          "text": [
            "    Age         AgeCateg\n",
            "0  22.0  Mayores de edad\n",
            "1  38.0  Mayores de edad\n",
            "2  26.0  Mayores de edad\n",
            "3  35.0  Mayores de edad\n",
            "4  35.0  Mayores de edad\n",
            "\n"
          ]
        }
      ]
    },
    {
      "cell_type": "markdown",
      "source": [
        "# **Ejercicio 4: Comparación entre promedios calculados manualmente y con Pandas**\n",
        "\n",
        "*   Utiliza NumPy para calcular el promedio de las columnas 'Age' y 'Fare', ignorando valores nulos.\n",
        "*   Compara estos valores con los promedios obtenidos utilizando los métodos nativos de Pandas.\n",
        "*   Verifica que los resultados sean consistentes.\n",
        "\n",
        "\n",
        "\n",
        "\n",
        "\n",
        "\n",
        "\n"
      ],
      "metadata": {
        "id": "D7IxlW4XxvVl"
      }
    },
    {
      "cell_type": "code",
      "source": [
        "import numpy as np\n",
        "\n",
        "#calcular promedio utilizando numpy\n",
        "age_numpy=np.nanmean(df['Age'])\n",
        "fare_numpy=np.nanmean(df['Fare'])\n",
        "\n",
        "print('Promedio de Age utilizando NumPy:', age_numpy)\n",
        "print('Promedio de Fare utilizando NumPy:', fare_numpy)\n",
        "print()\n",
        "\n",
        "#calcular promedio utilizando panda\n",
        "age_panda=df['Age'].mean()\n",
        "fare_panda=df['Fare'].mean()\n",
        "print('Promedio de Age utilizando Pandas:', age_numpy)\n",
        "print('Promedio de Fare utilizando Pandas:', fare_numpy)\n",
        "print()\n",
        "\n",
        "if age_panda==age_numpy:\n",
        "  print('Los resultados son consistentes')\n",
        "else:\n",
        "  print('Los resultados no son consistentes')\n",
        "print()\n",
        "\n",
        "if fare_panda==fare_numpy:\n",
        "  print('Los resultados son consistentes')\n",
        "else:\n",
        "  print('Los resultados no son consistentes')"
      ],
      "metadata": {
        "colab": {
          "base_uri": "https://localhost:8080/"
        },
        "id": "CbRryzIoyC03",
        "outputId": "1bcbd1e4-fff8-4a38-a65f-8e7551e89a85"
      },
      "execution_count": 83,
      "outputs": [
        {
          "output_type": "stream",
          "name": "stdout",
          "text": [
            "Promedio de Age utilizando NumPy: 29.69911764705882\n",
            "Promedio de Fare utilizando NumPy: 32.204207968574636\n",
            "\n",
            "Promedio de Age utilizando Pandas: 29.69911764705882\n",
            "Promedio de Fare utilizando Pandas: 32.204207968574636\n",
            "\n",
            "Los resultados son consistentes\n",
            "\n",
            "Los resultados son consistentes\n"
          ]
        }
      ]
    },
    {
      "cell_type": "markdown",
      "source": [
        "# **Ejercicio 5. Creación de intervalos de clase usando NumPy y análisis con Pandas**\n",
        "\n",
        "*   Divide la columna 'Fare' en 5 intervalos equidistantes utilizando la función numpy.linspace, el estudiante deberá investigar la operación de esta función en python.\n",
        "*   Crea una nueva columna en el DataFrame que asigne a cada pasajero el intervalo correspondiente de su tarifa.\n",
        "*   Calcula el número de pasajeros en cada intervalo utilizando Pandas y la proporción de supervivientes por intervalo.\n",
        "\n",
        "\n",
        "\n",
        "\n",
        "\n",
        "\n",
        "\n"
      ],
      "metadata": {
        "id": "bPluGTxwz-n3"
      }
    },
    {
      "cell_type": "markdown",
      "source": [],
      "metadata": {
        "id": "NeAxAZX40X81"
      }
    },
    {
      "cell_type": "code",
      "source": [
        "fare_intervalos = np.linspace(df['Fare'].min(), df['Fare'].max(), 6)\n",
        "#print(fare_intervalos)\n",
        "#print()\n",
        "\n",
        "df['Fare_correspond']=pd.cut(df['Fare'],fare_intervalos)\n",
        "print(df[['Fare','Fare_correspond']].head())\n",
        "print()\n",
        "\n",
        "pass_num=df['Fare_correspond'].value_counts().sort_index()\n",
        "\n",
        "surv_prop=df.groupby('Fare_correspond')['Survived'].mean()\n",
        "\n",
        "res=pd.DataFrame({'Pasajeros':pass_num,'Supervivencia':surv_prop})\n",
        "print(res)\n",
        "print()"
      ],
      "metadata": {
        "colab": {
          "base_uri": "https://localhost:8080/"
        },
        "id": "uvbQFvaK0QFA",
        "outputId": "7cf618b6-06a6-4469-fd42-9e943a27d200"
      },
      "execution_count": 95,
      "outputs": [
        {
          "output_type": "stream",
          "name": "stdout",
          "text": [
            "      Fare Fare_correspond\n",
            "0   7.2500  (0.0, 102.466]\n",
            "1  71.2833  (0.0, 102.466]\n",
            "2   7.9250  (0.0, 102.466]\n",
            "3  53.1000  (0.0, 102.466]\n",
            "4   8.0500  (0.0, 102.466]\n",
            "\n",
            "                    Pasajeros  Supervivencia\n",
            "Fare_correspond                             \n",
            "(0.0, 102.466]            823       0.366950\n",
            "(102.466, 204.932]         33       0.757576\n",
            "(204.932, 307.398]         17       0.647059\n",
            "(307.398, 409.863]          0            NaN\n",
            "(409.863, 512.329]          3       1.000000\n",
            "\n"
          ]
        },
        {
          "output_type": "stream",
          "name": "stderr",
          "text": [
            "<ipython-input-95-1c3f9faca65a>:11: FutureWarning: The default of observed=False is deprecated and will be changed to True in a future version of pandas. Pass observed=False to retain current behavior or observed=True to adopt the future default and silence this warning.\n",
            "  surv_prop=df.groupby('Fare_correspond')['Survived'].mean()\n"
          ]
        }
      ]
    }
  ]
}