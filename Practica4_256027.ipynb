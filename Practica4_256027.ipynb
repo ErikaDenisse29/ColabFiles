{
  "nbformat": 4,
  "nbformat_minor": 0,
  "metadata": {
    "colab": {
      "provenance": [],
      "authorship_tag": "ABX9TyMquJN+tJVKdjn5UjwOfKri",
      "include_colab_link": true
    },
    "kernelspec": {
      "name": "python3",
      "display_name": "Python 3"
    },
    "language_info": {
      "name": "python"
    }
  },
  "cells": [
    {
      "cell_type": "markdown",
      "metadata": {
        "id": "view-in-github",
        "colab_type": "text"
      },
      "source": [
        "<a href=\"https://colab.research.google.com/github/ErikaDenisse29/ColabFiles/blob/main/Practica4_256027.ipynb\" target=\"_parent\"><img src=\"https://colab.research.google.com/assets/colab-badge.svg\" alt=\"Open In Colab\"/></a>"
      ]
    },
    {
      "cell_type": "markdown",
      "source": [
        "# **Manipulación de matrices.**\n",
        "\n",
        "Crea dos matrices de 3x3 con números aleatorios entre 1 y 10. Realiza las siguientes operaciones:\n",
        "\n",
        "\n",
        "*   Suma ambas matrices.\n",
        "*   Resta la segunda matriz de la primera.\n",
        "*   Multiplica la primera matriz por 2.\n",
        "*   Realiza una multiplicación matricial entre las dos matrices.\n",
        "\n",
        "\n",
        "\n",
        "\n",
        "\n",
        "\n",
        "\n"
      ],
      "metadata": {
        "id": "f3cKADNlO9v4"
      }
    },
    {
      "cell_type": "code",
      "source": [
        "#Importar la biblioteca con un alias\n",
        "import numpy as np\n",
        "\n",
        "# Crear un arreglo de 3x3 con números enteros aleatorios entre 1 y 10\n",
        "array_3x3 = np.random.randint(1, 10, size=(3, 3))\n",
        "\n",
        "# Mostrar el arreglo\n",
        "print(\"Primer Arreglo 3x3:\\n\", array_3x3)\n",
        "\n",
        "# Crear otro arreglo de 3x3 para realizar operaciones\n",
        "array_3x3_2 = np.random.randint(1, 11, size=(3, 3))\n",
        "\n",
        "# Mostrar el segundo arreglo\n",
        "print(\"\\nSegundo Arreglo 3x3:\\n\", array_3x3_2)\n",
        "\n",
        "# Suma\n",
        "suma = array_3x3 + array_3x3_2\n",
        "print(\"\\nSuma:\\n\", suma)\n",
        "\n",
        "# Resta\n",
        "resta = array_3x3_2 - array_3x3\n",
        "print(\"\\nResta:\\n\", resta)\n",
        "\n",
        "# Multiplicación * 2\n",
        "multiplicacion = array_3x3 * 2\n",
        "print(\"\\nMultiplicación:\\n\", multiplicacion)\n",
        "\n",
        "# Multiplicación matricial\n",
        "multiplicacion = array_3x3 * array_3x3_2\n",
        "print(\"\\nMultiplicación:\\n\", multiplicacion)\n",
        "\n"
      ],
      "metadata": {
        "colab": {
          "base_uri": "https://localhost:8080/"
        },
        "id": "_LSm-ju4O958",
        "outputId": "458da6a7-ad5c-427c-c0bb-f1d96fe2df73"
      },
      "execution_count": 6,
      "outputs": [
        {
          "output_type": "stream",
          "name": "stdout",
          "text": [
            "Primer Arreglo 3x3:\n",
            " [[6 3 4]\n",
            " [5 9 1]\n",
            " [6 3 9]]\n",
            "\n",
            "Segundo Arreglo 3x3:\n",
            " [[ 1  1  1]\n",
            " [10  9 10]\n",
            " [ 3  8  7]]\n",
            "\n",
            "Suma:\n",
            " [[ 7  4  5]\n",
            " [15 18 11]\n",
            " [ 9 11 16]]\n",
            "\n",
            "Resta:\n",
            " [[-5 -2 -3]\n",
            " [ 5  0  9]\n",
            " [-3  5 -2]]\n",
            "\n",
            "Multiplicación:\n",
            " [[12  6  8]\n",
            " [10 18  2]\n",
            " [12  6 18]]\n",
            "\n",
            "Multiplicación:\n",
            " [[ 6  3  4]\n",
            " [50 81 10]\n",
            " [18 24 63]]\n"
          ]
        }
      ]
    }
  ]
}