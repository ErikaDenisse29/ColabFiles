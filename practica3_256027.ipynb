{
  "nbformat": 4,
  "nbformat_minor": 0,
  "metadata": {
    "colab": {
      "provenance": [],
      "authorship_tag": "ABX9TyM/Oew+BYnBUQEAuD6wIPG/",
      "include_colab_link": true
    },
    "kernelspec": {
      "name": "python3",
      "display_name": "Python 3"
    },
    "language_info": {
      "name": "python"
    }
  },
  "cells": [
    {
      "cell_type": "markdown",
      "metadata": {
        "id": "view-in-github",
        "colab_type": "text"
      },
      "source": [
        "<a href=\"https://colab.research.google.com/github/ErikaDenisse29/ColabFiles/blob/main/practica3_256027.ipynb\" target=\"_parent\"><img src=\"https://colab.research.google.com/assets/colab-badge.svg\" alt=\"Open In Colab\"/></a>"
      ]
    },
    {
      "cell_type": "code",
      "execution_count": null,
      "metadata": {
        "colab": {
          "base_uri": "https://localhost:8080/"
        },
        "id": "B856LLOrMZqo",
        "outputId": "1a160b27-5c8e-47d2-c855-566eca42ee0b"
      },
      "outputs": [
        {
          "output_type": "stream",
          "name": "stdout",
          "text": [
            "Crea un arreglo de 20 elementos con valores enteros aleatorios entre 1 y 100\n",
            "[ 1 49 81 48 60 32 24 72 28 42  1 67 59 20 94 24 72 80 53 89]\n",
            "\n",
            "Media: 49.8\n",
            "Máximo: 94\n",
            "Mínimo: 1\n",
            "\n",
            "Suma:\n",
            " [ 11  59  91  58  70  42  34  82  38  52  11  77  69  30 104  34  82  90\n",
            "  63  99]\n"
          ]
        }
      ],
      "source": [
        "\n",
        "#Importar la biblioteca con un alias\n",
        "import numpy as np\n",
        "\n",
        "print(\"Crea un arreglo de 20 elementos con valores enteros aleatorios entre 1 y 100\")\n",
        "array_intrand = np.random.randint(1,100,20)\n",
        "print(array_intrand)\n",
        "print()\n",
        "\n",
        "# Estadísticas sobre un array\n",
        "print(\"Media:\", np.mean(array_intrand))\n",
        "print(\"Máximo:\", np.max(array_intrand))\n",
        "print(\"Mínimo:\", np.min(array_intrand))\n",
        "# Suma\n",
        "suma = array_intrand + 10\n",
        "print(\"\\nSuma:\\n\", suma)\n",
        "\n",
        "\n",
        "\n"
      ]
    }
  ]
}