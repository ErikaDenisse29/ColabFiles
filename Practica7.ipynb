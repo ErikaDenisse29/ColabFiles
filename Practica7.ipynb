{
  "nbformat": 4,
  "nbformat_minor": 0,
  "metadata": {
    "colab": {
      "provenance": [],
      "authorship_tag": "ABX9TyOc30HTYwpwhnVIctp6aWUm",
      "include_colab_link": true
    },
    "kernelspec": {
      "name": "python3",
      "display_name": "Python 3"
    },
    "language_info": {
      "name": "python"
    }
  },
  "cells": [
    {
      "cell_type": "markdown",
      "metadata": {
        "id": "view-in-github",
        "colab_type": "text"
      },
      "source": [
        "<a href=\"https://colab.research.google.com/github/ErikaDenisse29/ColabFiles/blob/main/Practica7.ipynb\" target=\"_parent\"><img src=\"https://colab.research.google.com/assets/colab-badge.svg\" alt=\"Open In Colab\"/></a>"
      ]
    },
    {
      "cell_type": "markdown",
      "source": [
        "# **Práctica #7 - Unidad 1. Análisis de un Dataset con Matplotlib**\n",
        "\n",
        "Dataset:\n",
        "Para este ejercicio, utilizaremos el famoso dataset Iris de la librería seaborn. Este dataset contiene información sobre diferentes especies de flores Iris y varias medidas de sus características (como el largo y ancho del sépalo y el pétalo).\n",
        "\n",
        "Los estudiantes pueden cargarlo directamente desde la librería seaborn. Para ello emplea la siguiente instrucción:"
      ],
      "metadata": {
        "id": "-YcMh1Ce8o73"
      }
    },
    {
      "cell_type": "code",
      "source": [
        "import seaborn as sns\n",
        "import pandas as pd\n",
        "import matplotlib.pyplot as plt\n",
        "\n",
        "iris = sns.load_dataset(\"iris\")\n",
        "\n",
        "print(iris.head())\n",
        "print(iris.info())\n"
      ],
      "metadata": {
        "colab": {
          "base_uri": "https://localhost:8080/"
        },
        "id": "QDdTX1ll83G3",
        "outputId": "db43062d-20d4-4681-c58f-c48d8f64e35f"
      },
      "execution_count": 7,
      "outputs": [
        {
          "output_type": "stream",
          "name": "stdout",
          "text": [
            "   sepal_length  sepal_width  petal_length  petal_width species\n",
            "0           5.1          3.5           1.4          0.2  setosa\n",
            "1           4.9          3.0           1.4          0.2  setosa\n",
            "2           4.7          3.2           1.3          0.2  setosa\n",
            "3           4.6          3.1           1.5          0.2  setosa\n",
            "4           5.0          3.6           1.4          0.2  setosa\n",
            "<class 'pandas.core.frame.DataFrame'>\n",
            "RangeIndex: 150 entries, 0 to 149\n",
            "Data columns (total 5 columns):\n",
            " #   Column        Non-Null Count  Dtype  \n",
            "---  ------        --------------  -----  \n",
            " 0   sepal_length  150 non-null    float64\n",
            " 1   sepal_width   150 non-null    float64\n",
            " 2   petal_length  150 non-null    float64\n",
            " 3   petal_width   150 non-null    float64\n",
            " 4   species       150 non-null    object \n",
            "dtypes: float64(4), object(1)\n",
            "memory usage: 6.0+ KB\n",
            "None\n"
          ]
        }
      ]
    },
    {
      "cell_type": "markdown",
      "source": [
        "**a) Gráfico de barras:**\n",
        "\n",
        "Objetivo: Comparar el promedio de largo y ancho de los pétalos entre las tres especies de Iris.\n",
        "Instrucciones: Utiliza un gráfico de barras para mostrar la media de las columnas petal_length y petal_width agrupadas por species."
      ],
      "metadata": {
        "id": "8rvPDAP891UP"
      }
    },
    {
      "cell_type": "code",
      "source": [],
      "metadata": {
        "id": "zIklUmwh97L0"
      },
      "execution_count": null,
      "outputs": []
    }
  ]
}