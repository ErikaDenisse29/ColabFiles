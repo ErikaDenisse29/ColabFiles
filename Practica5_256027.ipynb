{
  "nbformat": 4,
  "nbformat_minor": 0,
  "metadata": {
    "colab": {
      "provenance": [],
      "mount_file_id": "16SqxMObPKEbG71cYYPCE4WapLZ4OnO7N",
      "authorship_tag": "ABX9TyOQHljvj5gegIBGi+PpfFtP",
      "include_colab_link": true
    },
    "kernelspec": {
      "name": "python3",
      "display_name": "Python 3"
    },
    "language_info": {
      "name": "python"
    }
  },
  "cells": [
    {
      "cell_type": "markdown",
      "metadata": {
        "id": "view-in-github",
        "colab_type": "text"
      },
      "source": [
        "<a href=\"https://colab.research.google.com/github/ErikaDenisse29/ColabFiles/blob/main/Practica5_256027.ipynb\" target=\"_parent\"><img src=\"https://colab.research.google.com/assets/colab-badge.svg\" alt=\"Open In Colab\"/></a>"
      ]
    },
    {
      "cell_type": "markdown",
      "source": [
        "# **Uso de máscaras booleanas.**\n",
        "\n",
        "Crea un arreglo unidimensional con 15 números aleatorios entre 1 y 50. Luego:\n",
        "\n",
        "\n",
        "*   Selecciona los elementos mayores que 25 utilizando una máscara booleana.\n",
        "*   Cuenta cuántos elementos son mayores que 25.\n",
        "\n",
        "\n",
        "\n"
      ],
      "metadata": {
        "id": "lPRcDMhmUKiX"
      }
    },
    {
      "cell_type": "code",
      "execution_count": 5,
      "metadata": {
        "colab": {
          "base_uri": "https://localhost:8080/"
        },
        "id": "s7UR1KwgRwiD",
        "outputId": "b1a384fd-a620-444a-cd53-cef2147c0f23"
      },
      "outputs": [
        {
          "output_type": "stream",
          "name": "stdout",
          "text": [
            "Crea un arreglo de 15 elementos con valores enteros aleatorios entre 1 y 50\n",
            "[15 19  9 18 32 28 40  2 44  9 23  2 40 37 17]\n",
            "\n",
            "Elementos mayores que 25: [32 28 40 44 40 37]\n",
            "Cantidad de elementos mayores que 25: 6\n"
          ]
        }
      ],
      "source": [
        "#Importar la biblioteca con un alias\n",
        "import numpy as np\n",
        "\n",
        "#Importamos la biblioteca re para trabajar con expresiones regulars\n",
        "#en Python\n",
        "import re\n",
        "\n",
        "#crear arreglo\n",
        "print(\"Crea un arreglo de 15 elementos con valores enteros aleatorios entre 1 y 50\")\n",
        "array_ = np.random.randint(1,50,15)\n",
        "print(array_)\n",
        "print()\n",
        "\n",
        "mask=array_ >25\n",
        "mayor_25=array_[mask]\n",
        "print(\"Elementos mayores que 25:\",mayor_25)\n",
        "print(\"Cantidad de elementos mayores que 25:\",np.sum(mask))\n",
        "\n",
        "\n"
      ]
    }
  ]
}